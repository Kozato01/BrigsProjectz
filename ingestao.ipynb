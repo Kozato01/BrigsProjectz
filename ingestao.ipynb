{
 "cells": [
  {
   "attachments": {},
   "cell_type": "markdown",
   "metadata": {},
   "source": [
    "<h5>Ingestão de Dados</h5>"
   ]
  },
  {
   "cell_type": "code",
   "execution_count": null,
   "metadata": {},
   "outputs": [],
   "source": [
    "#Função pra criar Tabelas direto do diretorio.   \n",
    "def create_tables(file_patchs):\n",
    "    table_name = (file_patchs.split(\"/\")[-1]\n",
    "                                  .replace(\"NBA\", \"\")\n",
    "                                  .replace(\".csv\",\"\")) #remover alguns nome pra as tabelas serem criadas mais organizadas. \n",
    "    (spark.read\n",
    "     .csv(file_path, header=True, multiLine=True) #Consultar as options pra caso precise alterar\n",
    "     .coalesce(1)\n",
    "     .write\n",
    "     .mode('overwrite')\n",
    "    .format(\"delta\")\n",
    "    .option(\"overwriteSchema\", True)\n",
    "    .saveAsTable(f\"Database.{table_name}\"))\n",
    "    \n",
    "#Buscar os arquivos dentro do diretorio.    \n",
    "file_paths = [i.path for i in dbutils.fs.ls(f\"DIRETORIO\")]\n",
    "for f in file_paths:\n",
    "    print(f)\n",
    "    #create_tables(f)"
   ]
  },
  {
   "attachments": {},
   "cell_type": "markdown",
   "metadata": {},
   "source": [
    "<h5>Ingestão 2.0</h5>"
   ]
  }
 ],
 "metadata": {
  "language_info": {
   "name": "python"
  },
  "orig_nbformat": 4
 },
 "nbformat": 4,
 "nbformat_minor": 2
}
