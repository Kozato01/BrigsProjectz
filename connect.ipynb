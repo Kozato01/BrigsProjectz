{
 "cells": [
  {
   "attachments": {},
   "cell_type": "markdown",
   "metadata": {},
   "source": [
    "<h2>Conexão</h2>"
   ]
  },
  {
   "cell_type": "code",
   "execution_count": null,
   "metadata": {},
   "outputs": [],
   "source": [
    "class Conexao:\n",
    "#classe conexão com funções para conectar ao banco SQL  \n",
    "\n",
    "     #Informações para a conexão\n",
    "    jdbcHostname = '<NOMEDOHOST>.database.windows.net'\n",
    "    jdbcDatabase = '<NOME DO DB>'\n",
    "    jdbcPort = 1433 #numero da porta\n",
    "    jdbcUsername = '<USERNAME>'\n",
    "    jdbcPassword = dbutils.secrets.get(scope = '<nome do escopo do KV>', key = '<nome da chave>')\n",
    "    jdbcUrl = f'jdbc:sqlserver://{jdbcHostname}:{jdbcPort};database={jdbcDatabase}'\n",
    "    \n",
    "    def conectar(jdbcUsername=jdbcUsername, jdbcPassword = jdbcPassword ):\n",
    "        #retorna informações de conexão com o SQL\n",
    "        connectionProperties = {\n",
    "          \"user\" : jdbcUsername,\n",
    "          \"password\" : jdbcPassword,\n",
    "          \"driver\" : \"com.microsoft.sqlserver.jdbc.SQLServerDriver\"\n",
    "            }\n",
    "        return connectionProperties\n",
    "        \n",
    "    def salvar(var, nome_tabela, schema, jdbcUrl=jdbcUrl,jdbcUsername = jdbcUsername, jdbcPassword = jdbcPassword):\n",
    "        #salva um dataframe (var) com o nome schema.nome_tabela no banco de dados\n",
    "        var.write.format('jdbc')\\\n",
    "                        .mode('overwrite')\\\n",
    "                        .option('url', jdbcUrl)\\\n",
    "                        .option('dbtable',  f'{schema}.{nome_tabela}' )\\\n",
    "                        .option(\"user\", jdbcUsername) \\\n",
    "                        .option(\"password\", jdbcPassword) \\\n",
    "                        .save()  \n",
    "        \n",
    "    def url_sql (jdbcUrl = jdbcUrl):\n",
    "        #retorna somente a URL do banco, caso precise\n",
    "        return jdbcUrl\n",
    "    \n",
    "    def retorna_df (nome_tabela_sql):\n",
    "        #falta testar, deve funcionar\n",
    "        conexao = Conexao.conectar()\n",
    "        df = spark.read.jdbc(url=jdbcUrl, table=nome_tabela_sql, properties=conexao)\n",
    "        return df"
   ]
  },
  {
   "attachments": {},
   "cell_type": "markdown",
   "metadata": {},
   "source": [
    "<h4>Mount and unmount (Azure/S3)</h4>"
   ]
  },
  {
   "cell_type": "code",
   "execution_count": null,
   "metadata": {},
   "outputs": [],
   "source": [
    "#Azure\n",
    "dbutils.fs.mount(\n",
    "   source = f\"wasbs://{nome_container}@{storage}.blob.core.windows.net\",\n",
    "   mount_point=f\"/mnt/{nome_container}\",\n",
    "   extra_configs={f\"fs.azure.account.key.{storage}.blob.core.windows.net\":key})\n",
    "\n",
    "dbutils.fs.unmount(f\"/mnt/{nome_container}\")\n",
    "\n",
    "\n",
    "#S3 \n",
    "aws_bucket_name = \"<aws-bucket-name>\"\n",
    "mount_name = \"<mount-name>\"\n",
    "dbutils.fs.mount(f\"s3a://{aws_bucket_name}\", f\"/mnt/{mount_name}\")\n",
    "display(dbutils.fs.ls(f\"/mnt/{mount_name}\"))"
   ]
  }
 ],
 "metadata": {
  "kernelspec": {
   "display_name": "Python 3",
   "language": "python",
   "name": "python3"
  },
  "language_info": {
   "name": "python",
   "version": "3.10.4 (tags/v3.10.4:9d38120, Mar 23 2022, 23:13:41) [MSC v.1929 64 bit (AMD64)]"
  },
  "orig_nbformat": 4,
  "vscode": {
   "interpreter": {
    "hash": "cabb79eba6a7bbc86f68b9d7ec45eb843010dd03cdb24ac98d3af13e82d22868"
   }
  }
 },
 "nbformat": 4,
 "nbformat_minor": 2
}
