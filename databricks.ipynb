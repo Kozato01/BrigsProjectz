{
 "cells": [
  {
   "cell_type": "markdown",
   "metadata": {},
   "source": [
    "IMPORT das bibiliotecas de pyspark"
   ]
  },
  {
   "cell_type": "code",
   "execution_count": 1,
   "metadata": {},
   "outputs": [],
   "source": [
    "from pyspark.sql.functions import *\n",
    "from pyspark.sql.types import *\n",
    "from pyspark.sql import SparkSession\n",
    "import pyspark\n",
    "import json\n",
    "from pyspark.sql.functions import explode \n",
    "from pyspark.sql import functions\n"
   ]
  },
  {
   "cell_type": "markdown",
   "metadata": {},
   "source": [
    "<H2> Chamando o dataframe no blob </H2>"
   ]
  },
  {
   "cell_type": "code",
   "execution_count": null,
   "metadata": {},
   "outputs": [],
   "source": [
    "path = \"   VALOR       \"\n",
    "\n",
    "#tipo Json\n",
    "df = spark.read\\\n",
    "        .format('json')\\\n",
    "        .option('inferSchema', True)\\\n",
    "        .load(path)\n",
    "#tipo CSV\n",
    "df = spark.read\\\n",
    "        .format('csv')\\\n",
    "        .option('header', True)\\\n",
    "        .option('inferSchema', True)\\\n",
    "        .option('sep', ';')\\\n",
    "        .load(path)\n",
    "        \n",
    "# Try \n",
    "\n",
    "try:\n",
    "    df = spark.read\\\n",
    "        .format('csv')\\\n",
    "        .option('header', True)\\\n",
    "        .load(path)\n",
    "except:\n",
    "    print(\"error\")\n",
    "    \n",
    "else:\n",
    "    print(\"Sucesso, Vamos prosseguir\")"
   ]
  },
  {
   "cell_type": "markdown",
   "metadata": {},
   "source": [
    "Tratamentos de Colunas"
   ]
  },
  {
   "cell_type": "code",
   "execution_count": null,
   "metadata": {},
   "outputs": [],
   "source": [
    "#Criando uma função Lambda parar tratar o header da coluna, removendo o espaço vazio e colocando um underscore. \n",
    "Nova_Lista= list(map(lambda x: x.replace(\" \", \"_\"), df.columns))\n",
    "df = d.toDF(*Nova_Lista)\n",
    "#Abaixo todas as colunas com o nome maisculos\n",
    "df = df.toDF(*[c.upper() for c in df.columns])"
   ]
  },
  {
   "cell_type": "markdown",
   "metadata": {},
   "source": [
    "FUNÇÕES PRA TRATAMENTO"
   ]
  },
  {
   "cell_type": "code",
   "execution_count": 8,
   "metadata": {},
   "outputs": [],
   "source": [
    "#Trocar virgula por ponto OBS: você pode trocar por outras coisas tbm.\n",
    "def convert_virgula(parametro):\n",
    "    return df.withColumn(parametro, regexp_replace(parametro, \",\", \".\"))\n",
    "\n",
    "\n",
    "#Formatar a data \n",
    "def formatardata(parametro):\n",
    "    return df.withColumn(parametro, to_date(parametro, 'dd/MM/yyyy'))\n",
    "\n",
    "#Converter valor vazio em não informado OBS: Ou algo da sua escolha.\n",
    "def convertevazio(df1):\n",
    "    for i in df1.columns:\n",
    "        df1 = df1.withColumn(i , when(col(i).isNull() | col(i).isin(''),'Não Informado').otherwise(col(i)))\n",
    "    return df1\n",
    "\n",
    "#Converter valor nulo em não informado, é o mesmo do de cima...\n",
    "def converternulo(df1):\n",
    "    for i in df1.columns:\n",
    "        df1 = df1.withColumn(i , when(col(i) == \"\", None).otherwise(col(i)))\n",
    "    return df1\n",
    "\n",
    "#Converter Valor null!\n",
    "def converternulo2(df1):\n",
    "    for i in df1.columns:\n",
    "        df1 = df1.na.fill('Não Informado')\n",
    "    return df1\n",
    "\n"
   ]
  },
  {
   "cell_type": "code",
   "execution_count": null,
   "metadata": {},
   "outputs": [],
   "source": []
  }
 ],
 "metadata": {
  "kernelspec": {
   "display_name": "Python 3.10.4 64-bit",
   "language": "python",
   "name": "python3"
  },
  "language_info": {
   "codemirror_mode": {
    "name": "ipython",
    "version": 3
   },
   "file_extension": ".py",
   "mimetype": "text/x-python",
   "name": "python",
   "nbconvert_exporter": "python",
   "pygments_lexer": "ipython3",
   "version": "3.10.4"
  },
  "orig_nbformat": 4,
  "vscode": {
   "interpreter": {
    "hash": "cabb79eba6a7bbc86f68b9d7ec45eb843010dd03cdb24ac98d3af13e82d22868"
   }
  }
 },
 "nbformat": 4,
 "nbformat_minor": 2
}
